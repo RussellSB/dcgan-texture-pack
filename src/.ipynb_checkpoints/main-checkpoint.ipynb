{
 "cells": [
  {
   "cell_type": "markdown",
   "id": "endless-microwave",
   "metadata": {},
   "source": [
    "# DCGAN PyTorch Implementation"
   ]
  },
  {
   "cell_type": "markdown",
   "id": "timely-verse",
   "metadata": {},
   "source": [
    "In this notebook we will be firstly implementing DCGAN for cifar-10, and the applying it to collected Minecraft textures. The resource used for the first step was: https://debuggercafe.com/implementing-deep-convolutional-gan-with-pytorch/"
   ]
  },
  {
   "cell_type": "markdown",
   "id": "olive-regular",
   "metadata": {},
   "source": [
    "## Model"
   ]
  },
  {
   "cell_type": "code",
   "execution_count": null,
   "id": "nutritional-replication",
   "metadata": {},
   "outputs": [],
   "source": [
    "import torch.nn as nn"
   ]
  },
  {
   "cell_type": "code",
   "execution_count": null,
   "id": "accurate-ceremony",
   "metadata": {},
   "outputs": [],
   "source": [
    "# Generator\n",
    "class Generator(nn.Module):\n",
    "    def __init__(self, x):\n",
    "        "
   ]
  }
 ],
 "metadata": {
  "kernelspec": {
   "display_name": "Python 3",
   "language": "python",
   "name": "python3"
  },
  "language_info": {
   "codemirror_mode": {
    "name": "ipython",
    "version": 3
   },
   "file_extension": ".py",
   "mimetype": "text/x-python",
   "name": "python",
   "nbconvert_exporter": "python",
   "pygments_lexer": "ipython3",
   "version": "3.8.8"
  }
 },
 "nbformat": 4,
 "nbformat_minor": 5
}
