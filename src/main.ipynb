{
 "cells": [
  {
   "cell_type": "markdown",
   "id": "endless-microwave",
   "metadata": {},
   "source": [
    "# DCGAN PyTorch Implementation"
   ]
  },
  {
   "cell_type": "markdown",
   "id": "timely-verse",
   "metadata": {},
   "source": [
    "In this notebook we will be firstly implementing DCGAN for cifar-10, and the applying it to collected Minecraft textures. The resource used for the first step was: \n",
    "\n",
    "- Blog tutorial on Cifar \n",
    "(https://debuggercafe.com/implementing-deep-convolutional-gan-with-pytorch/)\n",
    "- PyTorch tut on faces (https://pytorch.org/tutorials/beginner/dcgan_faces_tutorial.html)"
   ]
  },
  {
   "cell_type": "markdown",
   "id": "going-mention",
   "metadata": {},
   "source": [
    "## Imports"
   ]
  },
  {
   "cell_type": "code",
   "execution_count": 1,
   "id": "urban-judge",
   "metadata": {},
   "outputs": [],
   "source": [
    "import torch\n",
    "import torch.nn as nn\n",
    "from torchvision.utils import save_image\n",
    "\n",
    "import torchvision.transforms as transforms\n",
    "import torch.optim as optim\n",
    "import torchvision.datasets as datasets\n",
    "\n",
    "from torch.utils.data import DataLoader\n",
    "\n",
    "# set the computation device\n",
    "device = torch.device('cuda' if torch.cuda.is_available() else 'cpu')"
   ]
  },
  {
   "cell_type": "code",
   "execution_count": 2,
   "id": "common-sperm",
   "metadata": {},
   "outputs": [],
   "source": [
    "import numpy as np\n",
    "from matplotlib import pyplot as plt\n",
    "from tqdm.notebook import tqdm\n",
    "\n",
    "import matplotlib\n",
    "matplotlib.style.use('ggplot')"
   ]
  },
  {
   "cell_type": "markdown",
   "id": "olive-regular",
   "metadata": {},
   "source": [
    "## DCGAN Model"
   ]
  },
  {
   "cell_type": "code",
   "execution_count": 3,
   "id": "selected-curve",
   "metadata": {},
   "outputs": [],
   "source": [
    "# Generator\n",
    "class Generator(nn.Module):\n",
    "    def __init__(self, nz):\n",
    "        super(Generator, self).__init__()\n",
    "        self.nz = nz  # noise vector to be used as input\n",
    "        \n",
    "        # A sequential container, modules added in order passed\n",
    "        self.main = nn.Sequential(\n",
    "            \n",
    "            # Conv 1\n",
    "            nn.ConvTranspose2d(nz, 512, kernel_size=4, \n",
    "                               stride=1, padding=0, bias=False),\n",
    "            nn.BatchNorm2d(512),\n",
    "            nn.ReLU(True),\n",
    "            \n",
    "            # Conv 2\n",
    "            nn.ConvTranspose2d(512, 256, kernel_size=4,\n",
    "                              stride=2, padding=1, bias=False),\n",
    "            nn.BatchNorm2d(256),\n",
    "            nn.ReLU(True),\n",
    "            \n",
    "            # Conv 3\n",
    "            nn.ConvTranspose2d(256, 128, kernel_size=4,\n",
    "                               stride=2, padding=1, bias=False),\n",
    "            nn.BatchNorm2d(128),\n",
    "            nn.ReLU(True),\n",
    "            \n",
    "            # Conv 4\n",
    "            nn.ConvTranspose2d(128, 64, kernel_size=4, \n",
    "                               stride=2, padding=1, bias=False),\n",
    "            nn.BatchNorm2d(64),\n",
    "            nn.ReLU(True),\n",
    "            \n",
    "            # Conv 5 (Flatten to image)\n",
    "            nn.ConvTranspose2d(64, 3, kernel_size=4, \n",
    "                               stride=2, padding=1, bias=False),\n",
    "            nn.Tanh()       \n",
    "        )\n",
    "        \n",
    "    def forward(self, input):\n",
    "        return self.main(input)"
   ]
  },
  {
   "cell_type": "code",
   "execution_count": 4,
   "id": "simplified-orleans",
   "metadata": {},
   "outputs": [],
   "source": [
    "# Discriminator\n",
    "class Discriminator(nn.Module):\n",
    "    def __init__(self):\n",
    "        super(Discriminator, self).__init__()\n",
    "        self.main = nn.Sequential(\n",
    "            \n",
    "            # Conv 1\n",
    "            nn.Conv2d(3, 64, kernel_size=4, \n",
    "                      stride=2, padding=1, bias=False),\n",
    "            nn.LeakyReLU(0.2, inplace=True),\n",
    "            \n",
    "            # Conv 2\n",
    "            nn.Conv2d(64, 128, kernel_size=4, \n",
    "                      stride=2, padding=1, bias=False),\n",
    "            nn.BatchNorm2d(128),\n",
    "            nn.LeakyReLU(0.2, inplace=True),\n",
    "            \n",
    "            # Conv 3\n",
    "            nn.Conv2d(128, 256, kernel_size=4,  \n",
    "                      stride=2, padding=1, bias=False),\n",
    "            nn.BatchNorm2d(256),\n",
    "            nn.LeakyReLU(0.2, inplace=True),\n",
    "            \n",
    "            # Conv 4\n",
    "            nn.Conv2d(256, 512, kernel_size=4, \n",
    "                      stride=2, padding=1, bias=False),\n",
    "            nn.BatchNorm2d(512),\n",
    "            nn.LeakyReLU(0.2, inplace=True),\n",
    "            \n",
    "            # Conv 5 (Final layer for fake or real)\n",
    "            nn.Conv2d(512, 1, kernel_size=4, \n",
    "                      stride=1, padding=0, bias=False),\n",
    "            nn.Sigmoid()\n",
    "        )\n",
    "    def forward(self, input):\n",
    "        return self.main(input)"
   ]
  },
  {
   "cell_type": "markdown",
   "id": "detailed-hepatitis",
   "metadata": {},
   "source": [
    "## Utils"
   ]
  },
  {
   "cell_type": "code",
   "execution_count": 5,
   "id": "distinguished-parent",
   "metadata": {},
   "outputs": [],
   "source": [
    "# Creating real labels by batch size\n",
    "def label_real(size):\n",
    "    data = torch.ones(size, 1)\n",
    "    return data.to(device)\n",
    "\n",
    "\n",
    "# Creating fake labels by batch size\n",
    "def label_fake(size):\n",
    "    data = torch.zeros(size, 1)\n",
    "    return data.to(device)\n",
    "\n",
    "\n",
    "# Creating noise tensor by sample/batch size and latent vector size\n",
    "def create_noise(sample_size, nz):\n",
    "    return torch.randn(sample_size, nz, 1, 1).to(device)"
   ]
  },
  {
   "cell_type": "code",
   "execution_count": 6,
   "id": "quantitative-delhi",
   "metadata": {},
   "outputs": [],
   "source": [
    "def save_generator_image(image, path):\n",
    "    save_image(image, path, normalize=True)"
   ]
  },
  {
   "cell_type": "code",
   "execution_count": 7,
   "id": "wireless-taxation",
   "metadata": {},
   "outputs": [],
   "source": [
    "# Initializes model weights from dist with mu=0, s=0.02\n",
    "def weights_init(m):\n",
    "    classname = m.__class__.__name__\n",
    "    if classname.find('Conv') != -1:\n",
    "        nn.init.normal_(m.weight.data, 0.0, 0.02)\n",
    "    elif classname.find('BatchNorm') != -1:\n",
    "        nn.init.normal_(m.weight.data, 1.0, 0.02)\n",
    "        nn.init.constant_(m.bias.data, 0)"
   ]
  },
  {
   "cell_type": "markdown",
   "id": "assigned-dutch",
   "metadata": {},
   "source": [
    "## Data"
   ]
  },
  {
   "cell_type": "markdown",
   "id": "oriented-compatibility",
   "metadata": {},
   "source": [
    "Hyperparameters"
   ]
  },
  {
   "cell_type": "code",
   "execution_count": 8,
   "id": "pleased-prophet",
   "metadata": {},
   "outputs": [],
   "source": [
    "# Dimensions\n",
    "image_size = 64 # we need to resize image to 64x64\n",
    "nz = 100 # latent vector size\n",
    "batch_size = 128 # loading data in batches"
   ]
  },
  {
   "cell_type": "code",
   "execution_count": 9,
   "id": "timely-lottery",
   "metadata": {},
   "outputs": [],
   "source": [
    "# Resizes image and normalizes values\n",
    "transform = transforms.Compose([\n",
    "    transforms.Resize(image_size),\n",
    "    transforms.ToTensor(),\n",
    "    transforms.Normalize((0.5, 0.5, 0.5), \n",
    "    (0.5, 0.5, 0.5)),\n",
    "])"
   ]
  },
  {
   "cell_type": "code",
   "execution_count": 10,
   "id": "disturbed-sheep",
   "metadata": {},
   "outputs": [
    {
     "name": "stdout",
     "output_type": "stream",
     "text": [
      "Files already downloaded and verified\n"
     ]
    }
   ],
   "source": [
    "# prepare the data\n",
    "train_data = datasets.CIFAR10(\n",
    "    root='../input/cifar10',\n",
    "    train=True,\n",
    "    download=True,\n",
    "    transform=transform\n",
    ")\n",
    "train_loader = DataLoader(train_data, batch_size=batch_size, shuffle=True)"
   ]
  },
  {
   "cell_type": "markdown",
   "id": "alpha-large",
   "metadata": {},
   "source": [
    "## Training"
   ]
  },
  {
   "cell_type": "markdown",
   "id": "micro-caution",
   "metadata": {},
   "source": [
    "Hyperparameters"
   ]
  },
  {
   "cell_type": "code",
   "execution_count": 11,
   "id": "temporal-infrastructure",
   "metadata": {},
   "outputs": [],
   "source": [
    "# Training\n",
    "beta1 = 0.5 # beta1 value for Adam optimizer\n",
    "lr = 0.0002 # learning rate according to paper\n",
    "sample_size = 64 # fixed sample size\n",
    "epochs = 25 # number of epoch to train"
   ]
  },
  {
   "cell_type": "code",
   "execution_count": 12,
   "id": "dental-country",
   "metadata": {},
   "outputs": [
    {
     "name": "stdout",
     "output_type": "stream",
     "text": [
      "Generator(\n",
      "  (main): Sequential(\n",
      "    (0): ConvTranspose2d(100, 512, kernel_size=(4, 4), stride=(1, 1), bias=False)\n",
      "    (1): BatchNorm2d(512, eps=1e-05, momentum=0.1, affine=True, track_running_stats=True)\n",
      "    (2): ReLU(inplace=True)\n",
      "    (3): ConvTranspose2d(512, 256, kernel_size=(4, 4), stride=(2, 2), padding=(1, 1), bias=False)\n",
      "    (4): BatchNorm2d(256, eps=1e-05, momentum=0.1, affine=True, track_running_stats=True)\n",
      "    (5): ReLU(inplace=True)\n",
      "    (6): ConvTranspose2d(256, 128, kernel_size=(4, 4), stride=(2, 2), padding=(1, 1), bias=False)\n",
      "    (7): BatchNorm2d(128, eps=1e-05, momentum=0.1, affine=True, track_running_stats=True)\n",
      "    (8): ReLU(inplace=True)\n",
      "    (9): ConvTranspose2d(128, 64, kernel_size=(4, 4), stride=(2, 2), padding=(1, 1), bias=False)\n",
      "    (10): BatchNorm2d(64, eps=1e-05, momentum=0.1, affine=True, track_running_stats=True)\n",
      "    (11): ReLU(inplace=True)\n",
      "    (12): ConvTranspose2d(64, 3, kernel_size=(4, 4), stride=(2, 2), padding=(1, 1), bias=False)\n",
      "    (13): Tanh()\n",
      "  )\n",
      ")\n",
      "Discriminator(\n",
      "  (main): Sequential(\n",
      "    (0): Conv2d(3, 64, kernel_size=(4, 4), stride=(2, 2), padding=(1, 1), bias=False)\n",
      "    (1): LeakyReLU(negative_slope=0.2, inplace=True)\n",
      "    (2): Conv2d(64, 128, kernel_size=(4, 4), stride=(2, 2), padding=(1, 1), bias=False)\n",
      "    (3): BatchNorm2d(128, eps=1e-05, momentum=0.1, affine=True, track_running_stats=True)\n",
      "    (4): LeakyReLU(negative_slope=0.2, inplace=True)\n",
      "    (5): Conv2d(128, 256, kernel_size=(4, 4), stride=(2, 2), padding=(1, 1), bias=False)\n",
      "    (6): BatchNorm2d(256, eps=1e-05, momentum=0.1, affine=True, track_running_stats=True)\n",
      "    (7): LeakyReLU(negative_slope=0.2, inplace=True)\n",
      "    (8): Conv2d(256, 512, kernel_size=(4, 4), stride=(2, 2), padding=(1, 1), bias=False)\n",
      "    (9): BatchNorm2d(512, eps=1e-05, momentum=0.1, affine=True, track_running_stats=True)\n",
      "    (10): LeakyReLU(negative_slope=0.2, inplace=True)\n",
      "    (11): Conv2d(512, 1, kernel_size=(4, 4), stride=(1, 1), bias=False)\n",
      "    (12): Sigmoid()\n",
      "  )\n",
      ")\n"
     ]
    }
   ],
   "source": [
    "# Initialise models\n",
    "generator = Generator(nz).to(device)\n",
    "discriminator = Discriminator().to(device)\n",
    "\n",
    "# Initialize weights (and print)\n",
    "print(generator.apply(weights_init))\n",
    "print(discriminator.apply(weights_init))"
   ]
  },
  {
   "cell_type": "code",
   "execution_count": 13,
   "id": "formal-condition",
   "metadata": {},
   "outputs": [],
   "source": [
    "# optimizers\n",
    "optim_g = optim.Adam(generator.parameters(), lr=lr, betas=(beta1, 0.999))\n",
    "optim_d = optim.Adam(discriminator.parameters(), lr=lr, betas=(beta1, 0.999))\n",
    "\n",
    "# loss function\n",
    "criterion = nn.BCELoss()  # Binary Cross Entropy\n",
    "\n",
    "# Losses per epoch to later plot\n",
    "losses_g = []\n",
    "losses_d = []"
   ]
  },
  {
   "cell_type": "code",
   "execution_count": 14,
   "id": "democratic-zoning",
   "metadata": {},
   "outputs": [],
   "source": [
    "# Train the discriminator for an epoch\n",
    "def train_discriminator(optimizer, data_real, data_fake):\n",
    "    b_size = data_real.size(0)\n",
    "    \n",
    "    # Get real and fake label vectors\n",
    "    real_label = label_real(b_size) \n",
    "    fake_label = label_fake(b_size)\n",
    "    optimizer.zero_grad()\n",
    "    \n",
    "    # Get the outputs by doing real data forward pass\n",
    "    output_real = discriminator(data_real)\n",
    "    output_real = torch.squeeze(output_real)\n",
    "    real_label = torch.squeeze(real_label)\n",
    "    loss_real = criterion(output_real, real_label)\n",
    "    \n",
    "    # Get the outputs by doing fake data forward pass\n",
    "    output_fake = discriminator(data_fake)\n",
    "    output_fake = torch.squeeze(output_fake)\n",
    "    fake_label = torch.squeeze(fake_label)\n",
    "    loss_fake = criterion(output_fake, fake_label)\n",
    "    \n",
    "    # Compute gradients of real and fake losses \n",
    "    loss_real.backward()\n",
    "    loss_fake.backward()\n",
    "    \n",
    "    # update discriminator parameters\n",
    "    optimizer.step()\n",
    "    \n",
    "    return loss_real + loss_fake"
   ]
  },
  {
   "cell_type": "code",
   "execution_count": 15,
   "id": "compressed-brook",
   "metadata": {},
   "outputs": [],
   "source": [
    "# Train the generator for an epoch\n",
    "def train_generator(optimizer, data_fake):\n",
    "    b_size = data_fake.size(0)\n",
    "    \n",
    "    # Get the real label vector\n",
    "    real_label = label_real(b_size)\n",
    "    optimizer.zero_grad()\n",
    "    \n",
    "    # Output by doing a forward pass of the fake data through discriminator\n",
    "    output = discriminator(data_fake)\n",
    "    output = torch.squeeze(output)\n",
    "    real_label = torch.squeeze(real_label)\n",
    "    loss = criterion(output, real_label)\n",
    "    \n",
    "    # compute gradients of loss\n",
    "    loss.backward()\n",
    "    \n",
    "    # update generator parameters\n",
    "    optimizer.step()\n",
    "    \n",
    "    return loss "
   ]
  },
  {
   "cell_type": "code",
   "execution_count": 16,
   "id": "binding-mathematics",
   "metadata": {},
   "outputs": [],
   "source": [
    "# Create the noise vector right before training\n",
    "noise = create_noise(sample_size, nz)"
   ]
  },
  {
   "cell_type": "code",
   "execution_count": 17,
   "id": "functioning-vaccine",
   "metadata": {},
   "outputs": [
    {
     "data": {
      "application/vnd.jupyter.widget-view+json": {
       "model_id": "2cf525a2d29a4f6abaa33aa8319eba8e",
       "version_major": 2,
       "version_minor": 0
      },
      "text/plain": [
       "  0%|          | 0/25 [00:00<?, ?it/s]"
      ]
     },
     "metadata": {},
     "output_type": "display_data"
    },
    {
     "data": {
      "application/vnd.jupyter.widget-view+json": {
       "model_id": "ac08f7b67e0443809eaad70b73faf64a",
       "version_major": 2,
       "version_minor": 0
      },
      "text/plain": [
       "  0%|          | 0/390 [00:00<?, ?it/s]"
      ]
     },
     "metadata": {},
     "output_type": "display_data"
    },
    {
     "name": "stdout",
     "output_type": "stream",
     "text": [
      "Epoch 1 of 25\n",
      "Generator loss: 7.21464968, Discriminator loss: 0.58622319\n"
     ]
    },
    {
     "data": {
      "application/vnd.jupyter.widget-view+json": {
       "model_id": "59e9e179f9bb4bf8bcbc340bae526c2b",
       "version_major": 2,
       "version_minor": 0
      },
      "text/plain": [
       "  0%|          | 0/390 [00:00<?, ?it/s]"
      ]
     },
     "metadata": {},
     "output_type": "display_data"
    },
    {
     "name": "stdout",
     "output_type": "stream",
     "text": [
      "Epoch 2 of 25\n",
      "Generator loss: 4.13559771, Discriminator loss: 0.64304459\n"
     ]
    },
    {
     "data": {
      "application/vnd.jupyter.widget-view+json": {
       "model_id": "1e33b6ea0a004360ba56e55f48e98faa",
       "version_major": 2,
       "version_minor": 0
      },
      "text/plain": [
       "  0%|          | 0/390 [00:00<?, ?it/s]"
      ]
     },
     "metadata": {},
     "output_type": "display_data"
    },
    {
     "name": "stdout",
     "output_type": "stream",
     "text": [
      "Epoch 3 of 25\n",
      "Generator loss: 3.59865570, Discriminator loss: 0.64647627\n"
     ]
    },
    {
     "data": {
      "application/vnd.jupyter.widget-view+json": {
       "model_id": "0f8838eb295247719dad330312eec3d7",
       "version_major": 2,
       "version_minor": 0
      },
      "text/plain": [
       "  0%|          | 0/390 [00:00<?, ?it/s]"
      ]
     },
     "metadata": {},
     "output_type": "display_data"
    },
    {
     "name": "stdout",
     "output_type": "stream",
     "text": [
      "Epoch 4 of 25\n",
      "Generator loss: 3.43412971, Discriminator loss: 0.68314749\n"
     ]
    },
    {
     "data": {
      "application/vnd.jupyter.widget-view+json": {
       "model_id": "102e282cc26b4e8f88fe64985e8f9968",
       "version_major": 2,
       "version_minor": 0
      },
      "text/plain": [
       "  0%|          | 0/390 [00:00<?, ?it/s]"
      ]
     },
     "metadata": {},
     "output_type": "display_data"
    },
    {
     "name": "stdout",
     "output_type": "stream",
     "text": [
      "Epoch 5 of 25\n",
      "Generator loss: 2.96139264, Discriminator loss: 0.73248655\n"
     ]
    },
    {
     "data": {
      "application/vnd.jupyter.widget-view+json": {
       "model_id": "cf24f57102a44da1a9d37af168a4b827",
       "version_major": 2,
       "version_minor": 0
      },
      "text/plain": [
       "  0%|          | 0/390 [00:00<?, ?it/s]"
      ]
     },
     "metadata": {},
     "output_type": "display_data"
    },
    {
     "name": "stdout",
     "output_type": "stream",
     "text": [
      "Epoch 6 of 25\n",
      "Generator loss: 2.69938183, Discriminator loss: 0.76110506\n"
     ]
    },
    {
     "data": {
      "application/vnd.jupyter.widget-view+json": {
       "model_id": "97ee6f1d928b4c6bb3ef21d474e831fc",
       "version_major": 2,
       "version_minor": 0
      },
      "text/plain": [
       "  0%|          | 0/390 [00:00<?, ?it/s]"
      ]
     },
     "metadata": {},
     "output_type": "display_data"
    },
    {
     "name": "stdout",
     "output_type": "stream",
     "text": [
      "Epoch 7 of 25\n",
      "Generator loss: 3.03893495, Discriminator loss: 0.70324016\n"
     ]
    },
    {
     "data": {
      "application/vnd.jupyter.widget-view+json": {
       "model_id": "d7a201f17dfc4e4697b8f6a431c05427",
       "version_major": 2,
       "version_minor": 0
      },
      "text/plain": [
       "  0%|          | 0/390 [00:00<?, ?it/s]"
      ]
     },
     "metadata": {},
     "output_type": "display_data"
    },
    {
     "name": "stdout",
     "output_type": "stream",
     "text": [
      "Epoch 8 of 25\n",
      "Generator loss: 3.15141153, Discriminator loss: 0.68635684\n"
     ]
    },
    {
     "data": {
      "application/vnd.jupyter.widget-view+json": {
       "model_id": "99842aa2071f4f0d9f460f664a05bf92",
       "version_major": 2,
       "version_minor": 0
      },
      "text/plain": [
       "  0%|          | 0/390 [00:00<?, ?it/s]"
      ]
     },
     "metadata": {},
     "output_type": "display_data"
    },
    {
     "name": "stdout",
     "output_type": "stream",
     "text": [
      "Epoch 9 of 25\n",
      "Generator loss: 3.01824641, Discriminator loss: 0.75095117\n"
     ]
    },
    {
     "data": {
      "application/vnd.jupyter.widget-view+json": {
       "model_id": "3d271cb60c3e4de490635a93430a0410",
       "version_major": 2,
       "version_minor": 0
      },
      "text/plain": [
       "  0%|          | 0/390 [00:00<?, ?it/s]"
      ]
     },
     "metadata": {},
     "output_type": "display_data"
    },
    {
     "name": "stdout",
     "output_type": "stream",
     "text": [
      "Epoch 10 of 25\n",
      "Generator loss: 3.16849589, Discriminator loss: 0.64425343\n"
     ]
    },
    {
     "data": {
      "application/vnd.jupyter.widget-view+json": {
       "model_id": "d6b5f27d99e446f798fe8e94111c81f1",
       "version_major": 2,
       "version_minor": 0
      },
      "text/plain": [
       "  0%|          | 0/390 [00:00<?, ?it/s]"
      ]
     },
     "metadata": {},
     "output_type": "display_data"
    },
    {
     "name": "stdout",
     "output_type": "stream",
     "text": [
      "Epoch 11 of 25\n",
      "Generator loss: 3.74056840, Discriminator loss: 0.54238755\n"
     ]
    },
    {
     "data": {
      "application/vnd.jupyter.widget-view+json": {
       "model_id": "4d4866871b444e55a7c3c6e70d11408c",
       "version_major": 2,
       "version_minor": 0
      },
      "text/plain": [
       "  0%|          | 0/390 [00:00<?, ?it/s]"
      ]
     },
     "metadata": {},
     "output_type": "display_data"
    },
    {
     "name": "stdout",
     "output_type": "stream",
     "text": [
      "Epoch 12 of 25\n",
      "Generator loss: 3.86910987, Discriminator loss: 0.53283632\n"
     ]
    },
    {
     "data": {
      "application/vnd.jupyter.widget-view+json": {
       "model_id": "30ed2f1eec8748dcab1fced3cf750788",
       "version_major": 2,
       "version_minor": 0
      },
      "text/plain": [
       "  0%|          | 0/390 [00:00<?, ?it/s]"
      ]
     },
     "metadata": {},
     "output_type": "display_data"
    },
    {
     "name": "stdout",
     "output_type": "stream",
     "text": [
      "Epoch 13 of 25\n",
      "Generator loss: 2.57814956, Discriminator loss: 0.82496893\n"
     ]
    },
    {
     "data": {
      "application/vnd.jupyter.widget-view+json": {
       "model_id": "4275e9cb7b9f4a93bdfbb55578aea9de",
       "version_major": 2,
       "version_minor": 0
      },
      "text/plain": [
       "  0%|          | 0/390 [00:00<?, ?it/s]"
      ]
     },
     "metadata": {},
     "output_type": "display_data"
    },
    {
     "name": "stdout",
     "output_type": "stream",
     "text": [
      "Epoch 14 of 25\n",
      "Generator loss: 3.33912420, Discriminator loss: 0.61885667\n"
     ]
    },
    {
     "data": {
      "application/vnd.jupyter.widget-view+json": {
       "model_id": "83c4263c0f554c1db293a971fb1ee31e",
       "version_major": 2,
       "version_minor": 0
      },
      "text/plain": [
       "  0%|          | 0/390 [00:00<?, ?it/s]"
      ]
     },
     "metadata": {},
     "output_type": "display_data"
    },
    {
     "name": "stdout",
     "output_type": "stream",
     "text": [
      "Epoch 15 of 25\n",
      "Generator loss: 3.76139951, Discriminator loss: 0.53880072\n"
     ]
    },
    {
     "data": {
      "application/vnd.jupyter.widget-view+json": {
       "model_id": "2d80da15a1864f03ae299142d6243e28",
       "version_major": 2,
       "version_minor": 0
      },
      "text/plain": [
       "  0%|          | 0/390 [00:00<?, ?it/s]"
      ]
     },
     "metadata": {},
     "output_type": "display_data"
    },
    {
     "name": "stdout",
     "output_type": "stream",
     "text": [
      "Epoch 16 of 25\n",
      "Generator loss: 2.45588517, Discriminator loss: 0.78930873\n"
     ]
    },
    {
     "data": {
      "application/vnd.jupyter.widget-view+json": {
       "model_id": "0bf7ee7595234180806d1bbe55e9acc6",
       "version_major": 2,
       "version_minor": 0
      },
      "text/plain": [
       "  0%|          | 0/390 [00:00<?, ?it/s]"
      ]
     },
     "metadata": {},
     "output_type": "display_data"
    },
    {
     "name": "stdout",
     "output_type": "stream",
     "text": [
      "Epoch 17 of 25\n",
      "Generator loss: 2.82064056, Discriminator loss: 0.73328847\n"
     ]
    },
    {
     "data": {
      "application/vnd.jupyter.widget-view+json": {
       "model_id": "daa062202bba411e911cc3d49a4ac645",
       "version_major": 2,
       "version_minor": 0
      },
      "text/plain": [
       "  0%|          | 0/390 [00:00<?, ?it/s]"
      ]
     },
     "metadata": {},
     "output_type": "display_data"
    },
    {
     "name": "stdout",
     "output_type": "stream",
     "text": [
      "Epoch 18 of 25\n",
      "Generator loss: 3.78760719, Discriminator loss: 0.47719571\n"
     ]
    },
    {
     "data": {
      "application/vnd.jupyter.widget-view+json": {
       "model_id": "d165b11ce4d3472d969b5679414cb085",
       "version_major": 2,
       "version_minor": 0
      },
      "text/plain": [
       "  0%|          | 0/390 [00:00<?, ?it/s]"
      ]
     },
     "metadata": {},
     "output_type": "display_data"
    },
    {
     "name": "stdout",
     "output_type": "stream",
     "text": [
      "Epoch 19 of 25\n",
      "Generator loss: 3.30044508, Discriminator loss: 0.57910454\n"
     ]
    },
    {
     "data": {
      "application/vnd.jupyter.widget-view+json": {
       "model_id": "cb5af033142641db86b36bfb2ccd29d5",
       "version_major": 2,
       "version_minor": 0
      },
      "text/plain": [
       "  0%|          | 0/390 [00:00<?, ?it/s]"
      ]
     },
     "metadata": {},
     "output_type": "display_data"
    },
    {
     "name": "stdout",
     "output_type": "stream",
     "text": [
      "Epoch 20 of 25\n",
      "Generator loss: 3.61769176, Discriminator loss: 0.55189109\n"
     ]
    },
    {
     "data": {
      "application/vnd.jupyter.widget-view+json": {
       "model_id": "dc007088131948d9888a9e2c67dcc87d",
       "version_major": 2,
       "version_minor": 0
      },
      "text/plain": [
       "  0%|          | 0/390 [00:00<?, ?it/s]"
      ]
     },
     "metadata": {},
     "output_type": "display_data"
    },
    {
     "name": "stdout",
     "output_type": "stream",
     "text": [
      "Epoch 21 of 25\n",
      "Generator loss: 2.81836247, Discriminator loss: 0.73934454\n"
     ]
    },
    {
     "data": {
      "application/vnd.jupyter.widget-view+json": {
       "model_id": "b0311e06a003485c9dc7ae0e273f29af",
       "version_major": 2,
       "version_minor": 0
      },
      "text/plain": [
       "  0%|          | 0/390 [00:00<?, ?it/s]"
      ]
     },
     "metadata": {},
     "output_type": "display_data"
    },
    {
     "name": "stdout",
     "output_type": "stream",
     "text": [
      "Epoch 22 of 25\n",
      "Generator loss: 3.18844604, Discriminator loss: 0.58256906\n"
     ]
    },
    {
     "data": {
      "application/vnd.jupyter.widget-view+json": {
       "model_id": "6e255ea88dd341c3815d82450cd07be2",
       "version_major": 2,
       "version_minor": 0
      },
      "text/plain": [
       "  0%|          | 0/390 [00:00<?, ?it/s]"
      ]
     },
     "metadata": {},
     "output_type": "display_data"
    },
    {
     "name": "stdout",
     "output_type": "stream",
     "text": [
      "Epoch 23 of 25\n",
      "Generator loss: 3.23357534, Discriminator loss: 0.64675945\n"
     ]
    },
    {
     "data": {
      "application/vnd.jupyter.widget-view+json": {
       "model_id": "a33ab83c39a74b6cbafffa2163732cb5",
       "version_major": 2,
       "version_minor": 0
      },
      "text/plain": [
       "  0%|          | 0/390 [00:00<?, ?it/s]"
      ]
     },
     "metadata": {},
     "output_type": "display_data"
    },
    {
     "name": "stdout",
     "output_type": "stream",
     "text": [
      "Epoch 24 of 25\n",
      "Generator loss: 2.89158702, Discriminator loss: 0.66441137\n"
     ]
    },
    {
     "data": {
      "application/vnd.jupyter.widget-view+json": {
       "model_id": "aedb30907f1749a68cecc9abd9f3e9bf",
       "version_major": 2,
       "version_minor": 0
      },
      "text/plain": [
       "  0%|          | 0/390 [00:00<?, ?it/s]"
      ]
     },
     "metadata": {},
     "output_type": "display_data"
    },
    {
     "name": "stdout",
     "output_type": "stream",
     "text": [
      "Epoch 25 of 25\n",
      "Generator loss: 4.75483370, Discriminator loss: 0.24770172\n",
      "DONE TRAINING\n"
     ]
    },
    {
     "data": {
      "image/png": "[encoded data removed]",
      "text/plain": [
       "<Figure size 432x288 with 1 Axes>"
      ]
     },
     "metadata": {},
     "output_type": "display_data"
    }
   ],
   "source": [
    "# Training loop over multiple epochs\n",
    "for epoch in tqdm(range(epochs)):\n",
    "    loss_g = 0.0\n",
    "    loss_d = 0.0\n",
    "    \n",
    "    for bi, data in tqdm(enumerate(train_loader), total=int(len(train_data)/train_loader.batch_size)):\n",
    "        image, _ = data\n",
    "        image = image.to(device)\n",
    "        b_size = len(image)\n",
    "        # forward pass through generator to create fake data\n",
    "        data_fake = generator(create_noise(b_size, nz)).detach()\n",
    "        data_real = image\n",
    "        loss_d += train_discriminator(optim_d, data_real, data_fake)\n",
    "        data_fake = generator(create_noise(b_size, nz))\n",
    "        loss_g += train_generator(optim_g, data_fake)\n",
    "        \n",
    "    # Final forward pass through generator to create fake data after one epoch\n",
    "    generated_img = generator(noise).cpu().detach()\n",
    "    \n",
    "    # Save the generated results to disk\n",
    "    save_generator_image(generated_img, f\"../outputs/cifar10/gen_img{epoch}.png\")\n",
    "    epoch_loss_g = loss_g / bi # total generator loss for the epoch\n",
    "    epoch_loss_d = loss_d / bi # total discriminator loss for the epoch\n",
    "    losses_g.append(epoch_loss_g)\n",
    "    losses_d.append(epoch_loss_d)\n",
    "    \n",
    "    print(f\"Epoch {epoch+1} of {epochs}\")\n",
    "    print(f\"Generator loss: {epoch_loss_g:.8f}, Discriminator loss: {epoch_loss_d:.8f}\")\n",
    "    \n",
    "# Save the model\n",
    "print('DONE TRAINING')\n",
    "# save the model weights to disk\n",
    "torch.save(generator.state_dict(), '../outputs/cifar10/generator.pth')\n",
    "\n",
    "# plot and save the generator and discriminator loss\n",
    "plt.figure()\n",
    "plt.plot(losses_g, label='Generator loss')\n",
    "plt.plot(losses_d, label='Discriminator Loss')\n",
    "plt.legend()\n",
    "plt.savefig('../outputs/cifar10/loss.png')\n",
    "plt.show()"
   ]
  }
 ],
 "metadata": {
  "kernelspec": {
   "display_name": "Python 3",
   "language": "python",
   "name": "python3"
  },
  "language_info": {
   "codemirror_mode": {
    "name": "ipython",
    "version": 3
   },
   "file_extension": ".py",
   "mimetype": "text/x-python",
   "name": "python",
   "nbconvert_exporter": "python",
   "pygments_lexer": "ipython3",
   "version": "3.8.8"
  }
 },
 "nbformat": 4,
 "nbformat_minor": 5
}
