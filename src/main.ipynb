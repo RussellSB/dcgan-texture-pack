{
 "cells": [
  {
   "cell_type": "markdown",
   "id": "endless-microwave",
   "metadata": {},
   "source": [
    "# DCGAN PyTorch Implementation"
   ]
  },
  {
   "cell_type": "markdown",
   "id": "timely-verse",
   "metadata": {},
   "source": [
    "In this notebook we will be firstly implementing DCGAN for cifar-10, and the applying it to collected Minecraft textures. The resource used for the first step was: \n",
    "\n",
    "- Blog tutorial on Cifar \n",
    "(https://debuggercafe.com/implementing-deep-convolutional-gan-with-pytorch/)\n",
    "- PyTorch tut on faces (https://pytorch.org/tutorials/beginner/dcgan_faces_tutorial.html)"
   ]
  },
  {
   "cell_type": "markdown",
   "id": "representative-lyric",
   "metadata": {},
   "source": [
    "## Imports"
   ]
  },
  {
   "cell_type": "code",
   "execution_count": 1,
   "id": "blessed-filling",
   "metadata": {},
   "outputs": [],
   "source": [
    "import torch\n",
    "import torch.nn as nn\n",
    "from torchvision.utils import save_image\n",
    "\n",
    "import torchvision.transforms as transforms\n",
    "import torch.optim as optim\n",
    "import torchvision.datasets as datasets\n",
    "\n",
    "from torch.utils.data import DataLoader\n",
    "\n",
    "# set the computation device\n",
    "device = torch.device('cuda' if torch.cuda.is_available() else 'cpu')"
   ]
  },
  {
   "cell_type": "code",
   "execution_count": 2,
   "id": "blind-showcase",
   "metadata": {},
   "outputs": [],
   "source": [
    "import numpy as np\n",
    "from matplotlib import pyplot as plt\n",
    "from tqdm.notebook import tqdm\n",
    "\n",
    "import matplotlib\n",
    "matplotlib.style.use('ggplot')"
   ]
  },
  {
   "cell_type": "markdown",
   "id": "actual-thirty",
   "metadata": {},
   "source": [
    "## Dimensional params"
   ]
  },
  {
   "cell_type": "code",
   "execution_count": 64,
   "id": "lightweight-validity",
   "metadata": {},
   "outputs": [],
   "source": [
    "g_size = d_size = image_size = 32 # true width x height\n",
    "nz = 100 # latent vector size\n",
    "batch_size = 128 # loading data in batches"
   ]
  },
  {
   "cell_type": "markdown",
   "id": "olive-regular",
   "metadata": {},
   "source": [
    "## DCGAN Model"
   ]
  },
  {
   "cell_type": "code",
   "execution_count": 88,
   "id": "urban-earthquake",
   "metadata": {},
   "outputs": [],
   "source": [
    "# Generator\n",
    "class Generator(nn.Module):\n",
    "    def __init__(self, nz):\n",
    "        super(Generator, self).__init__()\n",
    "        self.nz = nz  # noise vector to be used as input\n",
    "            \n",
    "        # Conv 1\n",
    "        self.conv1 = nn.Sequential(\n",
    "            nn.ConvTranspose2d(nz, g_size * 8, kernel_size=4, \n",
    "                               stride=2, padding=0, bias=False),\n",
    "            nn.BatchNorm2d(g_size * 8),\n",
    "            nn.ReLU(True),\n",
    "        )\n",
    "\n",
    "        # Conv 2\n",
    "        self.conv2 = nn.Sequential(\n",
    "            nn.ConvTranspose2d(g_size * 8, g_size * 4, kernel_size=4,\n",
    "                              stride=2, padding=1, bias=False),\n",
    "            nn.BatchNorm2d(g_size * 4),\n",
    "            nn.ReLU(True),\n",
    "        )\n",
    "\n",
    "        # Conv 3\n",
    "        self.conv3 = nn.Sequential(\n",
    "            nn.ConvTranspose2d(g_size * 4, g_size * 2, kernel_size=4,\n",
    "                               stride=2, padding=1, bias=False),\n",
    "            nn.BatchNorm2d(g_size * 2),\n",
    "            nn.ReLU(True),\n",
    "        )\n",
    "\n",
    "        # Conv 4\n",
    "        self.conv4 = nn.Sequential(\n",
    "            nn.ConvTranspose2d(g_size * 2, g_size, kernel_size=4, \n",
    "                               stride=2, padding=1, bias=False),\n",
    "            nn.BatchNorm2d(g_size),\n",
    "            nn.ReLU(True),\n",
    "        )\n",
    "            \n",
    "        # Conv 5 (Flatten to image)\n",
    "        self.conv5 = nn.Sequential(\n",
    "            nn.ConvTranspose2d(g_size, 3, kernel_size=1, \n",
    "                               stride=1, padding=0, bias=False),\n",
    "            nn.Tanh()       \n",
    "        )\n",
    "        \n",
    "    def forward(self, x):\n",
    "        #print('G')\n",
    "        #print(x.size())\n",
    "        x = self.conv1(x)\n",
    "        #print(x.size())\n",
    "        x = self.conv2(x)\n",
    "        #print(x.size())\n",
    "        x = self.conv3(x)\n",
    "        #print(x.size())\n",
    "        x = self.conv4(x)\n",
    "        #print(x.size())\n",
    "        x = self.conv5(x)\n",
    "        #print(x.size())\n",
    "        #print()\n",
    "        return x"
   ]
  },
  {
   "cell_type": "code",
   "execution_count": 89,
   "id": "narrative-reply",
   "metadata": {},
   "outputs": [],
   "source": [
    "# Discriminator\n",
    "class Discriminator(nn.Module):\n",
    "    def __init__(self):\n",
    "        super(Discriminator, self).__init__()\n",
    "            \n",
    "        # Conv 1\n",
    "        self.conv1 = nn.Sequential(\n",
    "            nn.Conv2d(3, d_size, kernel_size=4, \n",
    "                      stride=2, padding=1, bias=False),\n",
    "            nn.LeakyReLU(0.2, inplace=True)\n",
    "        )\n",
    "            \n",
    "        # Conv 2\n",
    "        self.conv2 = nn.Sequential(\n",
    "            nn.Conv2d(d_size, d_size * 2, kernel_size=4, \n",
    "                      stride=2, padding=1, bias=False),\n",
    "            nn.BatchNorm2d(d_size * 2),\n",
    "            nn.LeakyReLU(0.2, inplace=True)\n",
    "        )\n",
    "            \n",
    "        # Conv 3\n",
    "        self.conv3 = nn.Sequential(\n",
    "            nn.Conv2d(d_size * 2, d_size * 4, kernel_size=4,  \n",
    "                      stride=2, padding=1, bias=False),\n",
    "            nn.BatchNorm2d(d_size * 4),\n",
    "            nn.LeakyReLU(0.2, inplace=True)\n",
    "        )\n",
    "            \n",
    "        # Conv 4\n",
    "        self.conv4 = nn.Sequential(\n",
    "            nn.Conv2d(d_size * 4, d_size * 8, kernel_size=4, \n",
    "                      stride=2, padding=1, bias=False),\n",
    "            nn.BatchNorm2d(d_size * 8),\n",
    "            nn.LeakyReLU(0.2, inplace=True)\n",
    "        )\n",
    "            \n",
    "        # Conv 5 (Final layer for fake or real)\n",
    "        self.conv5 = nn.Sequential(\n",
    "            nn.Conv2d(d_size * 8, 1, kernel_size=2, \n",
    "                      stride=1, padding=0, bias=False),\n",
    "            nn.Sigmoid()\n",
    "        )\n",
    "            \n",
    "            \n",
    "    def forward(self, x):\n",
    "        #print('D')\n",
    "        #print(x.size())\n",
    "        x = self.conv1(x)\n",
    "        #print(x.size())\n",
    "        x = self.conv2(x)\n",
    "        #print(x.size())\n",
    "        x = self.conv3(x)\n",
    "        #print(x.size())\n",
    "        x = self.conv4(x)\n",
    "        #print(x.size())\n",
    "        x = self.conv5(x)\n",
    "        #print(x.size())\n",
    "        #print()\n",
    "        return x"
   ]
  },
  {
   "cell_type": "markdown",
   "id": "narrow-guatemala",
   "metadata": {},
   "source": [
    "## Utils"
   ]
  },
  {
   "cell_type": "code",
   "execution_count": 19,
   "id": "religious-passing",
   "metadata": {},
   "outputs": [],
   "source": [
    "# Creating real labels by batch size\n",
    "def label_real(size):\n",
    "    data = torch.ones(size, 1)\n",
    "    return data.to(device)\n",
    "\n",
    "\n",
    "# Creating fake labels by batch size\n",
    "def label_fake(size):\n",
    "    data = torch.zeros(size, 1)\n",
    "    return data.to(device)\n",
    "\n",
    "\n",
    "# Creating noise tensor by sample/batch size and latent vector size\n",
    "def create_noise(sample_size, nz):\n",
    "    return torch.randn(sample_size, nz, 1, 1).to(device)"
   ]
  },
  {
   "cell_type": "code",
   "execution_count": 20,
   "id": "spread-landing",
   "metadata": {},
   "outputs": [],
   "source": [
    "def save_generator_image(image, path):\n",
    "    save_image(image, path, normalize=True)"
   ]
  },
  {
   "cell_type": "code",
   "execution_count": 21,
   "id": "simple-quebec",
   "metadata": {},
   "outputs": [],
   "source": [
    "# Initializes model weights from dist with mu=0, s=0.02\n",
    "def weights_init(m):\n",
    "    classname = m.__class__.__name__\n",
    "    if classname.find('Conv') != -1:\n",
    "        nn.init.normal_(m.weight.data, 0.0, 0.02)\n",
    "    elif classname.find('BatchNorm') != -1:\n",
    "        nn.init.normal_(m.weight.data, 1.0, 0.02)\n",
    "        nn.init.constant_(m.bias.data, 0)"
   ]
  },
  {
   "cell_type": "markdown",
   "id": "decreased-workplace",
   "metadata": {},
   "source": [
    "## Data"
   ]
  },
  {
   "cell_type": "code",
   "execution_count": 35,
   "id": "contrary-sender",
   "metadata": {},
   "outputs": [],
   "source": [
    "# Resizes image and normalizes values\n",
    "transform = transforms.Compose([\n",
    "    #transforms.Resize(image_size),\n",
    "    transforms.ToTensor(),\n",
    "    transforms.Normalize((0.5, 0.5, 0.5), \n",
    "    (0.5, 0.5, 0.5)),\n",
    "])"
   ]
  },
  {
   "cell_type": "code",
   "execution_count": 36,
   "id": "naval-shopping",
   "metadata": {},
   "outputs": [
    {
     "name": "stdout",
     "output_type": "stream",
     "text": [
      "Files already downloaded and verified\n"
     ]
    }
   ],
   "source": [
    "# prepare the data\n",
    "train_data = datasets.CIFAR10(\n",
    "    root='../input/cifar10',\n",
    "    train=True,\n",
    "    download=True,\n",
    "    transform=transform\n",
    ")\n",
    "train_loader = DataLoader(train_data, batch_size=batch_size, shuffle=True)"
   ]
  },
  {
   "cell_type": "markdown",
   "id": "velvet-polls",
   "metadata": {},
   "source": [
    "## Training"
   ]
  },
  {
   "cell_type": "markdown",
   "id": "american-brazilian",
   "metadata": {},
   "source": [
    "Hyperparameters"
   ]
  },
  {
   "cell_type": "code",
   "execution_count": 47,
   "id": "addressed-compression",
   "metadata": {},
   "outputs": [],
   "source": [
    "# Training\n",
    "beta1 = 0.5 # beta1 value for Adam optimizer\n",
    "lr = 0.0002 # learning rate according to paper\n",
    "sample_size = 64 # fixed sample size\n",
    "epochs = 25 # number of epoch to train"
   ]
  },
  {
   "cell_type": "code",
   "execution_count": 90,
   "id": "greenhouse-attention",
   "metadata": {},
   "outputs": [
    {
     "name": "stdout",
     "output_type": "stream",
     "text": [
      "Initialized\n"
     ]
    }
   ],
   "source": [
    "# Initialise models\n",
    "generator = Generator(nz).to(device)\n",
    "discriminator = Discriminator().to(device)\n",
    "\n",
    "# Initialize weights\n",
    "generator.apply(weights_init)\n",
    "discriminator.apply(weights_init)\n",
    "\n",
    "print('Initialized')"
   ]
  },
  {
   "cell_type": "code",
   "execution_count": 80,
   "id": "expensive-triumph",
   "metadata": {},
   "outputs": [],
   "source": [
    "# optimizers\n",
    "optim_g = optim.Adam(generator.parameters(), lr=lr, betas=(beta1, 0.999))\n",
    "optim_d = optim.Adam(discriminator.parameters(), lr=lr, betas=(beta1, 0.999))\n",
    "\n",
    "# loss function\n",
    "criterion = nn.BCELoss()  # Binary Cross Entropy\n",
    "\n",
    "# Losses per epoch to later plot\n",
    "losses_g = []\n",
    "losses_d = []"
   ]
  },
  {
   "cell_type": "code",
   "execution_count": 81,
   "id": "robust-sigma",
   "metadata": {},
   "outputs": [],
   "source": [
    "# Train the discriminator for an epoch\n",
    "def train_discriminator(optimizer, data_real, data_fake):\n",
    "    b_size = data_real.size(0)\n",
    "    \n",
    "    # Get real and fake label vectors\n",
    "    real_label = label_real(b_size) \n",
    "    fake_label = label_fake(b_size)\n",
    "    optimizer.zero_grad()\n",
    "    \n",
    "    # Get the outputs by doing real data forward pass\n",
    "    output_real = discriminator(data_real)\n",
    "    output_real = torch.squeeze(output_real)\n",
    "    real_label = torch.squeeze(real_label)\n",
    "    loss_real = criterion(output_real, real_label)\n",
    "    \n",
    "    # Get the outputs by doing fake data forward pass\n",
    "    output_fake = discriminator(data_fake)\n",
    "    output_fake = torch.squeeze(output_fake)\n",
    "    fake_label = torch.squeeze(fake_label)\n",
    "    loss_fake = criterion(output_fake, fake_label)\n",
    "    \n",
    "    # Compute gradients of real and fake losses \n",
    "    loss_real.backward()\n",
    "    loss_fake.backward()\n",
    "    \n",
    "    # update discriminator parameters\n",
    "    optimizer.step()\n",
    "    \n",
    "    return loss_real + loss_fake"
   ]
  },
  {
   "cell_type": "code",
   "execution_count": 82,
   "id": "homeless-frank",
   "metadata": {},
   "outputs": [],
   "source": [
    "# Train the generator for an epoch\n",
    "def train_generator(optimizer, data_fake):\n",
    "    b_size = data_fake.size(0)\n",
    "    \n",
    "    # Get the real label vector\n",
    "    real_label = label_real(b_size)\n",
    "    optimizer.zero_grad()\n",
    "    \n",
    "    # Output by doing a forward pass of the fake data through discriminator\n",
    "    output = discriminator(data_fake)\n",
    "    output = torch.squeeze(output)\n",
    "    real_label = torch.squeeze(real_label)\n",
    "    loss = criterion(output, real_label)\n",
    "    \n",
    "    # compute gradients of loss\n",
    "    loss.backward()\n",
    "    \n",
    "    # update generator parameters\n",
    "    optimizer.step()\n",
    "    \n",
    "    return loss "
   ]
  },
  {
   "cell_type": "code",
   "execution_count": 83,
   "id": "grand-flood",
   "metadata": {},
   "outputs": [],
   "source": [
    "# Create the noise vector right before training\n",
    "noise = create_noise(sample_size, nz)"
   ]
  },
  {
   "cell_type": "code",
   "execution_count": 91,
   "id": "flying-ladder",
   "metadata": {},
   "outputs": [
    {
     "data": {
      "application/vnd.jupyter.widget-view+json": {
       "model_id": "ae90f504092d41ff9b88b82fd38b250e",
       "version_major": 2,
       "version_minor": 0
      },
      "text/plain": [
       "  0%|          | 0/25 [00:00<?, ?it/s]"
      ]
     },
     "metadata": {},
     "output_type": "display_data"
    },
    {
     "data": {
      "application/vnd.jupyter.widget-view+json": {
       "model_id": "e909a0303c4b4dafab7d2d96001219bd",
       "version_major": 2,
       "version_minor": 0
      },
      "text/plain": [
       "  0%|          | 0/390 [00:00<?, ?it/s]"
      ]
     },
     "metadata": {},
     "output_type": "display_data"
    },
    {
     "name": "stdout",
     "output_type": "stream",
     "text": [
      "Epoch 1 of 25\n",
      "Generator loss: 0.84182638, Discriminator loss: 1.41060674\n"
     ]
    },
    {
     "data": {
      "application/vnd.jupyter.widget-view+json": {
       "model_id": "74c10af9d41f4b8599476af8757405f8",
       "version_major": 2,
       "version_minor": 0
      },
      "text/plain": [
       "  0%|          | 0/390 [00:00<?, ?it/s]"
      ]
     },
     "metadata": {},
     "output_type": "display_data"
    },
    {
     "name": "stdout",
     "output_type": "stream",
     "text": [
      "Epoch 2 of 25\n",
      "Generator loss: 0.84199321, Discriminator loss: 1.40939081\n"
     ]
    },
    {
     "data": {
      "application/vnd.jupyter.widget-view+json": {
       "model_id": "95d903b144c248839a777fbd20b17098",
       "version_major": 2,
       "version_minor": 0
      },
      "text/plain": [
       "  0%|          | 0/390 [00:00<?, ?it/s]"
      ]
     },
     "metadata": {},
     "output_type": "display_data"
    },
    {
     "name": "stdout",
     "output_type": "stream",
     "text": [
      "Epoch 3 of 25\n",
      "Generator loss: 0.84135550, Discriminator loss: 1.41057253\n"
     ]
    },
    {
     "data": {
      "application/vnd.jupyter.widget-view+json": {
       "model_id": "fe8de7ee279f43bd81c561ab8d2db41c",
       "version_major": 2,
       "version_minor": 0
      },
      "text/plain": [
       "  0%|          | 0/390 [00:00<?, ?it/s]"
      ]
     },
     "metadata": {},
     "output_type": "display_data"
    },
    {
     "name": "stdout",
     "output_type": "stream",
     "text": [
      "Epoch 4 of 25\n",
      "Generator loss: 0.84103590, Discriminator loss: 1.41049826\n"
     ]
    },
    {
     "data": {
      "application/vnd.jupyter.widget-view+json": {
       "model_id": "e4f4309b79244f5b813f78e0b29e067b",
       "version_major": 2,
       "version_minor": 0
      },
      "text/plain": [
       "  0%|          | 0/390 [00:00<?, ?it/s]"
      ]
     },
     "metadata": {},
     "output_type": "display_data"
    },
    {
     "name": "stdout",
     "output_type": "stream",
     "text": [
      "Epoch 5 of 25\n",
      "Generator loss: 0.84057927, Discriminator loss: 1.41007519\n"
     ]
    },
    {
     "data": {
      "application/vnd.jupyter.widget-view+json": {
       "model_id": "61d310b12e6b4911af19721b3315287e",
       "version_major": 2,
       "version_minor": 0
      },
      "text/plain": [
       "  0%|          | 0/390 [00:00<?, ?it/s]"
      ]
     },
     "metadata": {},
     "output_type": "display_data"
    },
    {
     "name": "stdout",
     "output_type": "stream",
     "text": [
      "Epoch 6 of 25\n",
      "Generator loss: 0.84204525, Discriminator loss: 1.41032183\n"
     ]
    },
    {
     "data": {
      "application/vnd.jupyter.widget-view+json": {
       "model_id": "075801a9bf95480bbd9596e12499405c",
       "version_major": 2,
       "version_minor": 0
      },
      "text/plain": [
       "  0%|          | 0/390 [00:00<?, ?it/s]"
      ]
     },
     "metadata": {},
     "output_type": "display_data"
    },
    {
     "name": "stdout",
     "output_type": "stream",
     "text": [
      "Epoch 7 of 25\n",
      "Generator loss: 0.84193182, Discriminator loss: 1.41063225\n"
     ]
    },
    {
     "data": {
      "application/vnd.jupyter.widget-view+json": {
       "model_id": "abeec7020f7349dfa1009a219e63b3f0",
       "version_major": 2,
       "version_minor": 0
      },
      "text/plain": [
       "  0%|          | 0/390 [00:00<?, ?it/s]"
      ]
     },
     "metadata": {},
     "output_type": "display_data"
    },
    {
     "name": "stdout",
     "output_type": "stream",
     "text": [
      "Epoch 8 of 25\n",
      "Generator loss: 0.84213740, Discriminator loss: 1.41107023\n"
     ]
    },
    {
     "data": {
      "application/vnd.jupyter.widget-view+json": {
       "model_id": "1f7152502290400a8ad875808bb5cf1e",
       "version_major": 2,
       "version_minor": 0
      },
      "text/plain": [
       "  0%|          | 0/390 [00:00<?, ?it/s]"
      ]
     },
     "metadata": {},
     "output_type": "display_data"
    },
    {
     "name": "stdout",
     "output_type": "stream",
     "text": [
      "Epoch 9 of 25\n",
      "Generator loss: 0.84008247, Discriminator loss: 1.41167641\n"
     ]
    },
    {
     "data": {
      "application/vnd.jupyter.widget-view+json": {
       "model_id": "7d88f42cb1964d138973080d930a69ad",
       "version_major": 2,
       "version_minor": 0
      },
      "text/plain": [
       "  0%|          | 0/390 [00:00<?, ?it/s]"
      ]
     },
     "metadata": {},
     "output_type": "display_data"
    },
    {
     "ename": "KeyboardInterrupt",
     "evalue": "",
     "output_type": "error",
     "traceback": [
      "\u001b[1;31m---------------------------------------------------------------------------\u001b[0m",
      "\u001b[1;31mKeyboardInterrupt\u001b[0m                         Traceback (most recent call last)",
      "\u001b[1;32m<ipython-input-91-80d0adb9a66f>\u001b[0m in \u001b[0;36m<module>\u001b[1;34m\u001b[0m\n\u001b[0;32m     12\u001b[0m         \u001b[0mdata_real\u001b[0m \u001b[1;33m=\u001b[0m \u001b[0mimage\u001b[0m\u001b[1;33m\u001b[0m\u001b[1;33m\u001b[0m\u001b[0m\n\u001b[0;32m     13\u001b[0m         \u001b[0mloss_d\u001b[0m \u001b[1;33m+=\u001b[0m \u001b[0mtrain_discriminator\u001b[0m\u001b[1;33m(\u001b[0m\u001b[0moptim_d\u001b[0m\u001b[1;33m,\u001b[0m \u001b[0mdata_real\u001b[0m\u001b[1;33m,\u001b[0m \u001b[0mdata_fake\u001b[0m\u001b[1;33m)\u001b[0m\u001b[1;33m\u001b[0m\u001b[1;33m\u001b[0m\u001b[0m\n\u001b[1;32m---> 14\u001b[1;33m         \u001b[0mdata_fake\u001b[0m \u001b[1;33m=\u001b[0m \u001b[0mgenerator\u001b[0m\u001b[1;33m(\u001b[0m\u001b[0mcreate_noise\u001b[0m\u001b[1;33m(\u001b[0m\u001b[0mb_size\u001b[0m\u001b[1;33m,\u001b[0m \u001b[0mnz\u001b[0m\u001b[1;33m)\u001b[0m\u001b[1;33m)\u001b[0m\u001b[1;33m\u001b[0m\u001b[1;33m\u001b[0m\u001b[0m\n\u001b[0m\u001b[0;32m     15\u001b[0m         \u001b[0mloss_g\u001b[0m \u001b[1;33m+=\u001b[0m \u001b[0mtrain_generator\u001b[0m\u001b[1;33m(\u001b[0m\u001b[0moptim_g\u001b[0m\u001b[1;33m,\u001b[0m \u001b[0mdata_fake\u001b[0m\u001b[1;33m)\u001b[0m\u001b[1;33m\u001b[0m\u001b[1;33m\u001b[0m\u001b[0m\n\u001b[0;32m     16\u001b[0m \u001b[1;33m\u001b[0m\u001b[0m\n",
      "\u001b[1;32m<ipython-input-19-b553e44044ae>\u001b[0m in \u001b[0;36mcreate_noise\u001b[1;34m(sample_size, nz)\u001b[0m\n\u001b[0;32m     13\u001b[0m \u001b[1;31m# Creating noise tensor by sample/batch size and latent vector size\u001b[0m\u001b[1;33m\u001b[0m\u001b[1;33m\u001b[0m\u001b[1;33m\u001b[0m\u001b[0m\n\u001b[0;32m     14\u001b[0m \u001b[1;32mdef\u001b[0m \u001b[0mcreate_noise\u001b[0m\u001b[1;33m(\u001b[0m\u001b[0msample_size\u001b[0m\u001b[1;33m,\u001b[0m \u001b[0mnz\u001b[0m\u001b[1;33m)\u001b[0m\u001b[1;33m:\u001b[0m\u001b[1;33m\u001b[0m\u001b[1;33m\u001b[0m\u001b[0m\n\u001b[1;32m---> 15\u001b[1;33m     \u001b[1;32mreturn\u001b[0m \u001b[0mtorch\u001b[0m\u001b[1;33m.\u001b[0m\u001b[0mrandn\u001b[0m\u001b[1;33m(\u001b[0m\u001b[0msample_size\u001b[0m\u001b[1;33m,\u001b[0m \u001b[0mnz\u001b[0m\u001b[1;33m,\u001b[0m \u001b[1;36m1\u001b[0m\u001b[1;33m,\u001b[0m \u001b[1;36m1\u001b[0m\u001b[1;33m)\u001b[0m\u001b[1;33m.\u001b[0m\u001b[0mto\u001b[0m\u001b[1;33m(\u001b[0m\u001b[0mdevice\u001b[0m\u001b[1;33m)\u001b[0m\u001b[1;33m\u001b[0m\u001b[1;33m\u001b[0m\u001b[0m\n\u001b[0m",
      "\u001b[1;31mKeyboardInterrupt\u001b[0m: "
     ]
    }
   ],
   "source": [
    "# Training loop over multiple epochs\n",
    "for epoch in tqdm(range(epochs)):\n",
    "    loss_g = 0.0\n",
    "    loss_d = 0.0\n",
    "    \n",
    "    for bi, data in tqdm(enumerate(train_loader), total=int(len(train_data)/train_loader.batch_size)):\n",
    "        image, _ = data\n",
    "        image = image.to(device)\n",
    "        b_size = len(image)\n",
    "        # forward pass through generator to create fake data\n",
    "        data_fake = generator(create_noise(b_size, nz)).detach()\n",
    "        data_real = image\n",
    "        loss_d += train_discriminator(optim_d, data_real, data_fake)\n",
    "        data_fake = generator(create_noise(b_size, nz))\n",
    "        loss_g += train_generator(optim_g, data_fake)\n",
    "        \n",
    "    # Final forward pass through generator to create fake data after one epoch\n",
    "    generated_img = generator(noise).cpu().detach()\n",
    "    \n",
    "    # Save the generated results to disk\n",
    "    save_generator_image(generated_img, f\"../outputs/cifar10/gen_img{epoch}.png\")\n",
    "    epoch_loss_g = loss_g / bi # total generator loss for the epoch\n",
    "    epoch_loss_d = loss_d / bi # total discriminator loss for the epoch\n",
    "    losses_g.append(epoch_loss_g)\n",
    "    losses_d.append(epoch_loss_d)\n",
    "    \n",
    "    print(f\"Epoch {epoch+1} of {epochs}\")\n",
    "    print(f\"Generator loss: {epoch_loss_g:.8f}, Discriminator loss: {epoch_loss_d:.8f}\")\n",
    "    \n",
    "# Save the model\n",
    "print('DONE TRAINING')\n",
    "# save the model weights to disk\n",
    "torch.save(generator.state_dict(), '../outputs/cifar10/generator.pth')\n",
    "\n",
    "# plot and save the generator and discriminator loss\n",
    "plt.figure()\n",
    "plt.plot(losses_g, label='Generator loss')\n",
    "plt.plot(losses_d, label='Discriminator Loss')\n",
    "plt.legend()\n",
    "plt.savefig('../outputs/cifar10/loss.png')\n",
    "plt.show()"
   ]
  }
 ],
 "metadata": {
  "kernelspec": {
   "display_name": "Python 3",
   "language": "python",
   "name": "python3"
  },
  "language_info": {
   "codemirror_mode": {
    "name": "ipython",
    "version": 3
   },
   "file_extension": ".py",
   "mimetype": "text/x-python",
   "name": "python",
   "nbconvert_exporter": "python",
   "pygments_lexer": "ipython3",
   "version": "3.8.8"
  }
 },
 "nbformat": 4,
 "nbformat_minor": 5
}
